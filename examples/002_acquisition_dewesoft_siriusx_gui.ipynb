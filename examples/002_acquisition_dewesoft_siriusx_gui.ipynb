{
 "cells": [
  {
   "cell_type": "code",
   "execution_count": 1,
   "id": "70b18c46",
   "metadata": {},
   "outputs": [],
   "source": [
    "import os\n",
    "import sys\n",
    "sys.path.insert(0, os.path.realpath('../'))"
   ]
  },
  {
   "cell_type": "code",
   "execution_count": 2,
   "id": "ff0e9416",
   "metadata": {},
   "outputs": [],
   "source": [
    "import LDAQ"
   ]
  },
  {
   "cell_type": "code",
   "execution_count": 3,
   "id": "ff8980cf",
   "metadata": {},
   "outputs": [],
   "source": [
    "acq_sirius = LDAQ.dewesoft.DewesoftSiriusX()"
   ]
  },
  {
   "cell_type": "code",
   "execution_count": 4,
   "id": "42fe1bb4",
   "metadata": {},
   "outputs": [
    {
     "data": {
      "text/plain": [
       "'dewesoft'"
      ]
     },
     "execution_count": 4,
     "metadata": {},
     "output_type": "execute_result"
    }
   ],
   "source": [
    "acq_sirius.acquisition_name"
   ]
  },
  {
   "cell_type": "code",
   "execution_count": 5,
   "id": "654a5928",
   "metadata": {},
   "outputs": [
    {
     "name": "stdout",
     "output_type": "stream",
     "text": [
      "Name:[tid: 3410][2025-09-02 08:57:59.047] [ModuleManager] [warning] Failed to check for network settings: open: Operation not permitted [system:1 at /__w/openDAQ/openDAQ/build/__external/src/Boost/libs/asio/include/boost/asio/detail/reactive_socket_service.hpp:133 in function 'open']\n",
      " Monitor of Raptor Lake-P/U/H cAVS HDMI / DisplayPort 3 Output Connection string: miniaudio://pulseaudio/alsa_output.pci-0000_00_1f.3-platform-skl_hda_dsp_generic.HiFi__HDMI3__sink.monitor\n",
      "Name: Monitor of Raptor Lake-P/U/H cAVS HDMI / DisplayPort 2 Output Connection string: miniaudio://pulseaudio/alsa_output.pci-0000_00_1f.3-platform-skl_hda_dsp_generic.HiFi__HDMI2__sink.monitor\n",
      "Name: Monitor of Raptor Lake-P/U/H cAVS HDMI / DisplayPort 1 Output Connection string: miniaudio://pulseaudio/alsa_output.pci-0000_00_1f.3-platform-skl_hda_dsp_generic.HiFi__HDMI1__sink.monitor\n",
      "Name: Monitor of Raptor Lake-P/U/H cAVS Speaker Connection string: miniaudio://pulseaudio/alsa_output.pci-0000_00_1f.3-platform-skl_hda_dsp_generic.HiFi__Speaker__sink.monitor\n",
      "Name: Raptor Lake-P/U/H cAVS Headphones Stereo Microphone Connection string: miniaudio://pulseaudio/alsa_input.pci-0000_00_1f.3-platform-skl_hda_dsp_generic.HiFi__Mic2__source\n",
      "Name: Raptor Lake-P/U/H cAVS Digital Microphone Connection string: miniaudio://pulseaudio/alsa_input.pci-0000_00_1f.3-platform-skl_hda_dsp_generic.HiFi__Mic1__source\n",
      "Name: MateView Analog Stereo Connection string: miniaudio://pulseaudio/alsa_input.usb-Dialog_Semiconductor__UK__Ltd_MateView_c856981715-01.analog-stereo\n",
      "Name: DB24050686 Connection string: daq://Dewesoft_DB24050686\n",
      "Name: Device 0 Connection string: daqref://device0\n",
      "Name: Device 1 Connection string: daqref://device1\n"
     ]
    }
   ],
   "source": [
    "acq_sirius.list_available_devices()"
   ]
  },
  {
   "cell_type": "code",
   "execution_count": 6,
   "id": "6d0bb536",
   "metadata": {},
   "outputs": [
    {
     "data": {
      "text/plain": [
       "True"
      ]
     },
     "execution_count": 6,
     "metadata": {},
     "output_type": "execute_result"
    }
   ],
   "source": [
    "acq_sirius.connect_to_device(\"daq://Dewesoft_DB24050686\")"
   ]
  },
  {
   "cell_type": "code",
   "execution_count": 7,
   "id": "87726b5a",
   "metadata": {},
   "outputs": [],
   "source": [
    "channel_settings = {\n",
    "    0: {\n",
    "        'Name': 'acc_X',\n",
    "        'Measurement': 'IEPE', # [IEPE, Voltage]\n",
    "        'Range': '10000', # [10000, 5000, 1000, 200] mV\n",
    "        'HPFilter': 'AC 1Hz', # [AC 0.1Hz, AC 1Hz]\n",
    "        'Excitation': 2.0, # [2, 4, 6] mA\n",
    "        'Sensitivity': 100,\n",
    "        'Sensitivity Unit': 'mV/g', # [mV/g, mV/(m/s^2)]\n",
    "        'Unit': 'g', # [g, m/s^2]\n",
    "    },\n",
    "    1: {\n",
    "        'Name': 'acc_Y',\n",
    "        'Measurement': 'IEPE', # [IEPE, Voltage]\n",
    "        'Range': '10000', # [10000, 5000, 1000, 200] mV\n",
    "        'HPFilter': 'AC 1Hz', # [AC 0.1Hz, AC 1Hz]\n",
    "        'Excitation': 2.0, # [2, 4, 6] mA\n",
    "        'Sensitivity': 100,\n",
    "        'Sensitivity Unit': 'mV/g', # [mV/g, mV/(m/s^2)]\n",
    "        'Unit': 'g', # [g, m/s^2]\n",
    "    },\n",
    "    2: {\n",
    "        'Name': 'acc_Z',\n",
    "        'Measurement': 'IEPE', # [IEPE, Voltage]\n",
    "        'Range': '10000', # [10000, 5000, 1000, 200] mV\n",
    "        'HPFilter': 'AC 1Hz', # [AC 0.1Hz, AC 1Hz]\n",
    "        'Excitation': 2.0, # [2, 4, 6] mA\n",
    "        'Sensitivity': 100,\n",
    "        'Sensitivity Unit': 'mV/g', # [mV/g, mV/(m/s^2)]\n",
    "        'Unit': 'g', # [g, m/s^2]\n",
    "    },\n",
    "    3: {\n",
    "        'Name': 'vol_1',\n",
    "        'Measurement': 'Voltage', # [IEPE, Voltage]\n",
    "        'Range': '10', # [10, 5, 1, 0.2] V\n",
    "        'HPFilter': 'DC', # [DC, AC 0.1Hz, AC 1Hz] \n",
    "        'Sensitivity': 1,\n",
    "        'Sensitivity Unit': 'V/V', # [arbitrary]\n",
    "        'Unit': 'V', # [arbitrary]\n",
    "    }\n",
    "}"
   ]
  },
  {
   "cell_type": "code",
   "execution_count": 8,
   "id": "34e9658e",
   "metadata": {},
   "outputs": [
    {
     "name": "stdout",
     "output_type": "stream",
     "text": [
      "Channels configured. You can check the current configuration with self.list_available_channels()\n",
      "Sample rate was set to: 10000 Hz.\n"
     ]
    }
   ],
   "source": [
    "acq_sirius.configure_channels(channel_settings, sample_rate=10000)"
   ]
  },
  {
   "cell_type": "code",
   "execution_count": 9,
   "id": "c8a0b314",
   "metadata": {},
   "outputs": [
    {
     "name": "stdout",
     "output_type": "stream",
     "text": [
      "Channel Global ID:  /openDAQDevice/Dev/Dewesoft_DB24050686/IO/1/AI1\n",
      "Channel Name     :  acc_X\n",
      "  Function Block Name:  Amplifier\n",
      "     Measurement          : IEPE       [Voltage, IEPE] \n",
      "     Range                : 10000      [10000, 5000, 1000, 200] mV\n",
      "     HPFilter             : AC 1Hz     [AC 0.1Hz, AC 1Hz] \n",
      "     Excitation           : 2.0        [2, 4, 6] mA\n",
      "     ExcitationUnit       : mA         [mA] \n",
      "     SupportsLed1Control  : True       None \n",
      "Channel Global ID:  /openDAQDevice/Dev/Dewesoft_DB24050686/IO/1/AI2\n",
      "Channel Name     :  acc_Y\n",
      "  Function Block Name:  Amplifier\n",
      "     Measurement          : IEPE       [Voltage, IEPE] \n",
      "     Range                : 10000      [10000, 5000, 1000, 200] mV\n",
      "     HPFilter             : AC 1Hz     [AC 0.1Hz, AC 1Hz] \n",
      "     Excitation           : 2.0        [2, 4, 6] mA\n",
      "     ExcitationUnit       : mA         [mA] \n",
      "     SupportsLed1Control  : True       None \n",
      "Channel Global ID:  /openDAQDevice/Dev/Dewesoft_DB24050686/IO/1/AI3\n",
      "Channel Name     :  acc_Z\n",
      "  Function Block Name:  Amplifier\n",
      "     Measurement          : IEPE       [Voltage, IEPE] \n",
      "     Range                : 10000      [10000, 5000, 1000, 200] mV\n",
      "     HPFilter             : AC 1Hz     [AC 0.1Hz, AC 1Hz] \n",
      "     Excitation           : 2.0        [2, 4, 6] mA\n",
      "     ExcitationUnit       : mA         [mA] \n",
      "     SupportsLed1Control  : True       None \n",
      "Channel Global ID:  /openDAQDevice/Dev/Dewesoft_DB24050686/IO/1/AI4\n",
      "Channel Name     :  vol_1\n",
      "  Function Block Name:  Amplifier\n",
      "     Measurement          : Voltage    [Voltage, IEPE] \n",
      "     Range                : 10         [10, 5, 1, 0.2] V\n",
      "     HPFilter             : DC         [DC, AC 0.1Hz, AC 1Hz] \n",
      "     ExcitationUnit       : mA         [mA] \n",
      "     SupportsLed1Control  : True       None \n",
      "Channel Global ID:  /openDAQDevice/Dev/Dewesoft_DB24050686/IO/1/AI5\n",
      "Channel Name     :  AI 5\n",
      "  Function Block Name:  Amplifier\n",
      "     Measurement          : Voltage    [Voltage, IEPE] \n",
      "     Range                : 10         [10, 5, 1, 0.2] V\n",
      "     HPFilter             : DC         [DC, AC 0.1Hz, AC 1Hz] \n",
      "     ExcitationUnit       : mA         [mA] \n",
      "     SupportsLed1Control  : True       None \n",
      "Channel Global ID:  /openDAQDevice/Dev/Dewesoft_DB24050686/IO/1/AI6\n",
      "Channel Name     :  AI 6\n",
      "  Function Block Name:  Amplifier\n",
      "     Measurement          : Voltage    [Voltage, IEPE] \n",
      "     Range                : 10         [10, 5, 1, 0.2] V\n",
      "     HPFilter             : DC         [DC, AC 0.1Hz, AC 1Hz] \n",
      "     ExcitationUnit       : mA         [mA] \n",
      "     SupportsLed1Control  : True       None \n",
      "Channel Global ID:  /openDAQDevice/Dev/Dewesoft_DB24050686/IO/1/AI7\n",
      "Channel Name     :  AI 7\n",
      "  Function Block Name:  Amplifier\n",
      "     Measurement          : Voltage    [Voltage, IEPE] \n",
      "     Range                : 10         [10, 5, 1, 0.2] V\n",
      "     HPFilter             : DC         [DC, AC 0.1Hz, AC 1Hz] \n",
      "     ExcitationUnit       : mA         [mA] \n",
      "     SupportsLed1Control  : True       None \n",
      "Channel Global ID:  /openDAQDevice/Dev/Dewesoft_DB24050686/IO/1/AI8\n",
      "Channel Name     :  AI 8\n",
      "  Function Block Name:  Amplifier\n",
      "     Measurement          : Voltage    [Voltage, IEPE] \n",
      "     Range                : 10         [10, 5, 1, 0.2] V\n",
      "     HPFilter             : DC         [DC, AC 0.1Hz, AC 1Hz] \n",
      "     ExcitationUnit       : mA         [mA] \n",
      "     SupportsLed1Control  : True       None \n",
      "Channel Global ID:  /openDAQDevice/Dev/Dewesoft_DB24050686/IO/2/AI1\n",
      "Channel Name     :  AI 1\n",
      "  Function Block Name:  Amplifier\n",
      "     Measurement          : Voltage    [Voltage, IEPE] \n",
      "     Range                : 10         [10, 5, 1, 0.2] V\n",
      "     HPFilter             : DC         [DC, AC 0.1Hz, AC 1Hz] \n",
      "     ExcitationUnit       : mA         [mA] \n",
      "     SupportsLed1Control  : True       None \n",
      "Channel Global ID:  /openDAQDevice/Dev/Dewesoft_DB24050686/IO/2/AI2\n",
      "Channel Name     :  AI 2\n",
      "  Function Block Name:  Amplifier\n",
      "     Measurement          : Voltage    [Voltage, IEPE] \n",
      "     Range                : 10         [10, 5, 1, 0.2] V\n",
      "     HPFilter             : DC         [DC, AC 0.1Hz, AC 1Hz] \n",
      "     ExcitationUnit       : mA         [mA] \n",
      "     SupportsLed1Control  : True       None \n",
      "Channel Global ID:  /openDAQDevice/Dev/Dewesoft_DB24050686/IO/2/AI3\n",
      "Channel Name     :  AI 3\n",
      "  Function Block Name:  Amplifier\n",
      "     Measurement          : Voltage    [Voltage, IEPE] \n",
      "     Range                : 10         [10, 5, 1, 0.2] V\n",
      "     HPFilter             : DC         [DC, AC 0.1Hz, AC 1Hz] \n",
      "     ExcitationUnit       : mA         [mA] \n",
      "     SupportsLed1Control  : True       None \n",
      "Channel Global ID:  /openDAQDevice/Dev/Dewesoft_DB24050686/IO/2/AI4\n",
      "Channel Name     :  AI 4\n",
      "  Function Block Name:  Amplifier\n",
      "     Measurement          : Voltage    [Voltage, IEPE] \n",
      "     Range                : 10         [10, 5, 1, 0.2] V\n",
      "     HPFilter             : DC         [DC, AC 0.1Hz, AC 1Hz] \n",
      "     ExcitationUnit       : mA         [mA] \n",
      "     SupportsLed1Control  : True       None \n",
      "Channel Global ID:  /openDAQDevice/Dev/Dewesoft_DB24050686/IO/2/AI5\n",
      "Channel Name     :  AI 5\n",
      "  Function Block Name:  Amplifier\n",
      "     Measurement          : Voltage    [Voltage, IEPE] \n",
      "     Range                : 10         [10, 5, 1, 0.2] V\n",
      "     HPFilter             : DC         [DC, AC 0.1Hz, AC 1Hz] \n",
      "     ExcitationUnit       : mA         [mA] \n",
      "     SupportsLed1Control  : True       None \n",
      "Channel Global ID:  /openDAQDevice/Dev/Dewesoft_DB24050686/IO/2/AI6\n",
      "Channel Name     :  AI 6\n",
      "  Function Block Name:  Amplifier\n",
      "     Measurement          : Voltage    [Voltage, IEPE] \n",
      "     Range                : 10         [10, 5, 1, 0.2] V\n",
      "     HPFilter             : DC         [DC, AC 0.1Hz, AC 1Hz] \n",
      "     ExcitationUnit       : mA         [mA] \n",
      "     SupportsLed1Control  : True       None \n",
      "Channel Global ID:  /openDAQDevice/Dev/Dewesoft_DB24050686/IO/2/AI7\n",
      "Channel Name     :  AI 7\n",
      "  Function Block Name:  Amplifier\n",
      "     Measurement          : Voltage    [Voltage, IEPE] \n",
      "     Range                : 10         [10, 5, 1, 0.2] V\n",
      "     HPFilter             : DC         [DC, AC 0.1Hz, AC 1Hz] \n",
      "     ExcitationUnit       : mA         [mA] \n",
      "     SupportsLed1Control  : True       None \n",
      "Channel Global ID:  /openDAQDevice/Dev/Dewesoft_DB24050686/IO/2/AI8\n",
      "Channel Name     :  AI 8\n",
      "  Function Block Name:  Amplifier\n",
      "     Measurement          : Voltage    [Voltage, IEPE] \n",
      "     Range                : 10         [10, 5, 1, 0.2] V\n",
      "     HPFilter             : DC         [DC, AC 0.1Hz, AC 1Hz] \n",
      "     ExcitationUnit       : mA         [mA] \n",
      "     SupportsLed1Control  : True       None \n",
      "Channel Global ID:  /openDAQDevice/Dev/Dewesoft_DB24050686/IO/CANPort1\n",
      "Channel Name     :  CAN Port 1\n"
     ]
    }
   ],
   "source": [
    "acq_sirius.list_available_channels()"
   ]
  },
  {
   "cell_type": "code",
   "execution_count": 10,
   "id": "c0f2a550",
   "metadata": {},
   "outputs": [],
   "source": [
    "# gui\n",
    "vis = LDAQ.Visualization(refresh_rate=30)\n",
    "vis.add_lines(\n",
    "    position=(0, 0),\n",
    "    source='dewesoft',\n",
    "    channels=(0,1,2),\n",
    ")"
   ]
  },
  {
   "cell_type": "code",
   "execution_count": 11,
   "id": "dfc5ec35",
   "metadata": {},
   "outputs": [],
   "source": [
    "ldaq = LDAQ.Core(acquisitions=[acq_sirius], visualization=vis)"
   ]
  },
  {
   "cell_type": "code",
   "execution_count": 12,
   "id": "0be4d5e3",
   "metadata": {},
   "outputs": [],
   "source": [
    "ldaq.set_trigger(\n",
    "    source='dewesoft',\n",
    "    channel='acc_X',\n",
    "    level=1000.,\n",
    "    duration=1.,\n",
    "    presamples=1000,\n",
    "    trigger_type='abs'\n",
    ")"
   ]
  },
  {
   "cell_type": "code",
   "execution_count": 13,
   "id": "5c93d9a4",
   "metadata": {},
   "outputs": [
    {
     "name": "stdout",
     "output_type": "stream",
     "text": [
      "closing app\n",
      "closing app\n"
     ]
    }
   ],
   "source": [
    "ldaq.run(hotkeys=False)"
   ]
  },
  {
   "cell_type": "code",
   "execution_count": 14,
   "id": "4d78bbc3",
   "metadata": {},
   "outputs": [],
   "source": [
    "data = ldaq.get_measurement_dict()['dewesoft']"
   ]
  },
  {
   "cell_type": "code",
   "execution_count": 15,
   "id": "bca49248",
   "metadata": {},
   "outputs": [],
   "source": [
    "import matplotlib.pyplot as plt\n",
    "%matplotlib qt"
   ]
  },
  {
   "cell_type": "code",
   "execution_count": 16,
   "id": "d2d16f12",
   "metadata": {},
   "outputs": [
    {
     "name": "stderr",
     "output_type": "stream",
     "text": [
      "qt.qpa.wayland: Wayland does not support QWindow::requestActivate()\n"
     ]
    }
   ],
   "source": [
    "time = data['time']\n",
    "acc_X = data['data'][:,0]\n",
    "acc_Y = data['data'][:,1]\n",
    "acc_Z = data['data'][:,2]\n",
    "vol_1 = data['data'][:,3]\n",
    "\n",
    "plt.figure()\n",
    "plt.plot(time, acc_X, label='Acc X')\n",
    "plt.plot(time, acc_Y, label='Acc Y')\n",
    "plt.plot(time, acc_Z, label='Acc Z')\n",
    "plt.plot(time, vol_1, label='Vol 1')\n",
    "plt.xlabel('Time [s]')\n",
    "plt.ylabel('Amplitude')\n",
    "plt.legend()\n",
    "plt.show()"
   ]
  },
  {
   "cell_type": "code",
   "execution_count": null,
   "id": "3becba17",
   "metadata": {},
   "outputs": [],
   "source": []
  }
 ],
 "metadata": {
  "kernelspec": {
   "display_name": ".venv (3.12.11)",
   "language": "python",
   "name": "python3"
  },
  "language_info": {
   "codemirror_mode": {
    "name": "ipython",
    "version": 3
   },
   "file_extension": ".py",
   "mimetype": "text/x-python",
   "name": "python",
   "nbconvert_exporter": "python",
   "pygments_lexer": "ipython3",
   "version": "3.12.11"
  }
 },
 "nbformat": 4,
 "nbformat_minor": 5
}
